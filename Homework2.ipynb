{
 "cells": [
  {
   "cell_type": "markdown",
   "metadata": {},
   "source": [
    "# Homework 2 by Lennart Tuijnder\n"
   ]
  },
  {
   "cell_type": "code",
   "execution_count": 1,
   "metadata": {},
   "outputs": [],
   "source": [
    "import numpy as np\n",
    "import matplotlib.pyplot as plt\n",
    "import math\n",
    "import pandas as pd\n",
    "import time"
   ]
  },
  {
   "cell_type": "markdown",
   "metadata": {},
   "source": [
    "-----\n",
    "## Read in the data and pre-process"
   ]
  },
  {
   "cell_type": "code",
   "execution_count": 3,
   "metadata": {},
   "outputs": [],
   "source": [
    "ListPrefixes = [\">chr2L\"]"
   ]
  },
  {
   "cell_type": "markdown",
   "metadata": {},
   "source": [
    "Read in the chromosone by storing it in one string.\n",
    "\n",
    "Also define the construction of the hashtable, which is returned as a dictionary and is constructed by a sliding window that goes of the chromosone string."
   ]
  },
  {
   "cell_type": "code",
   "execution_count": 2,
   "metadata": {},
   "outputs": [],
   "source": [
    "def readGenomeSimple(k):\n",
    "    with open(\"data/chr2L.fa\",\"r\") as f:\n",
    "        wholeGenome = f.read()                               \n",
    "    wholeGenome = wholeGenome.replace(\"\\n\",\"\")# Remove the newlines\n",
    "    for prefix in ListPrefixes: # Remove the prefixes between the chromosones\n",
    "        wholeGenome = wholeGenome.replace(prefix,\"\")\n",
    "    wholeGenome = wholeGenome.upper() # Make everything upper case:\n",
    "    \n",
    "    print(\"Genome processing done!\")\n",
    "    # Create the hashtable:\n",
    "    hashTable = {}\n",
    "    for i in range(len(wholeGenome)-k+2):\n",
    "        try:\n",
    "            hashTable[wholeGenome[i:i+k]].append(i)\n",
    "        except:\n",
    "            hashTable[wholeGenome[i:i+k]] = [i]\n",
    "    return wholeGenome, hashTable"
   ]
  },
  {
   "cell_type": "markdown",
   "metadata": {},
   "source": [
    "Construct thme"
   ]
  },
  {
   "cell_type": "code",
   "execution_count": 4,
   "metadata": {},
   "outputs": [
    {
     "name": "stdout",
     "output_type": "stream",
     "text": [
      "Genome processing done!\n",
      "6.507489442825317\n"
     ]
    }
   ],
   "source": [
    "start = time.time()\n",
    "wholeGenome, hashTable = readGenomeSimple( k = 8)\n",
    "end = time.time()\n",
    "print(end-start)"
   ]
  },
  {
   "cell_type": "markdown",
   "metadata": {},
   "source": [
    "Define a function that reads in the \"reads\". To do this read in every file and then pick out every 4 lines starting from an offset.\n",
    "\n",
    "Based on the offset we can read in the \"read\" or the quality of the read. For reverse reads the string is reversed and complimented.\n",
    "\n",
    "Quality reads are converted from ASCII [64,126] to the numerical input value 0 to 62 represinting the Q_phred score. "
   ]
  },
  {
   "cell_type": "code",
   "execution_count": 5,
   "metadata": {},
   "outputs": [],
   "source": [
    "def readReads(fileName, forward = True, Quality=False):\n",
    "    offset = 1 if not Quality else 3\n",
    "    with open(fileName,\"r\") as f:\n",
    "        lines = f.read().split() # Removes newline char\n",
    "    reads =  lines[offset::4]\n",
    "    if not forward:\n",
    "        for i, reverseRead in enumerate(reads):\n",
    "            reverseRead = reverseRead[::-1]# Reverse order\n",
    "            if Quality:\n",
    "                reads[i] = [ord(char)-64 for char in list(reverseRead)]\n",
    "            else: # Invert string since the reverse string is read\n",
    "                reverseRead.replace(\"A\",\"T\")\n",
    "                reverseRead.replace(\"T\",\"A\")\n",
    "                reverseRead.replace(\"C\",\"G\")\n",
    "                reverseRead.replace(\"G\",\"C\")\n",
    "                reads[i] = reverseRead\n",
    "    elif Quality:\n",
    "        for i, read  in enumerate(reads):\n",
    "            reads[i] = [ord(char)-64 for char in list(read)] # Conver to the Q-score\n",
    "    return reads"
   ]
  },
  {
   "cell_type": "markdown",
   "metadata": {},
   "source": [
    "read in the reads:"
   ]
  },
  {
   "cell_type": "code",
   "execution_count": 6,
   "metadata": {},
   "outputs": [
    {
     "name": "stdout",
     "output_type": "stream",
     "text": [
      "0.017784833908081055\n",
      "0.03165411949157715\n"
     ]
    }
   ],
   "source": [
    "start = time.time()\n",
    "readR1 = readReads(\"data/10000_R1.fastq\")\n",
    "end = time.time()\n",
    "print(end-start)\n",
    "start = time.time()\n",
    "readR2 = readReads(\"data/10000_R2.fastq\", forward=False)\n",
    "end = time.time()\n",
    "print(end-start)"
   ]
  },
  {
   "cell_type": "markdown",
   "metadata": {},
   "source": [
    "Reverse read roughly takes 5x as much time since it needs to be further processed.\n",
    "\n",
    "Read in the quality"
   ]
  },
  {
   "cell_type": "code",
   "execution_count": 7,
   "metadata": {},
   "outputs": [
    {
     "data": {
      "text/plain": [
       "0.11217164993286133"
      ]
     },
     "execution_count": 7,
     "metadata": {},
     "output_type": "execute_result"
    }
   ],
   "source": [
    "start = time.time()\n",
    "Quality_R1 = readReads(\"data/10000_R1.fastq\", Quality=True)\n",
    "end = time.time()\n",
    "Quality_R2 = readReads(\"data/10000_R2.fastq\", forward=False, Quality=True)\n",
    "end-start"
   ]
  },
  {
   "cell_type": "markdown",
   "metadata": {},
   "source": [
    "### Remove garbage entries\n",
    "\n",
    "To do this flag the reads who have a median quality of lower then 10. Construct a boolian array of the flagged read arrays."
   ]
  },
  {
   "cell_type": "code",
   "execution_count": 377,
   "metadata": {},
   "outputs": [],
   "source": [
    "GarbageReads1 = []\n",
    "for Quality1 in Quality_R1:\n",
    "    GarbageReads1.append(np.quantile(Quality1,0.50)<10)\n",
    "GarbageReads2 = []\n",
    "for Quality2 in Quality_R2:\n",
    "    GarbageReads2.append(np.quantile(Quality2,0.50)<10)"
   ]
  },
  {
   "cell_type": "markdown",
   "metadata": {},
   "source": [
    "Doing this removes leaves us stil with 8415 reads. Or 15.85 % is removed."
   ]
  },
  {
   "cell_type": "code",
   "execution_count": 421,
   "metadata": {},
   "outputs": [
    {
     "data": {
      "text/plain": [
       "8415"
      ]
     },
     "execution_count": 421,
     "metadata": {},
     "output_type": "execute_result"
    }
   ],
   "source": [
    "numberGood = 10000 - np.sum(np.logical_or(GarbageReads1,GarbageReads2))\n",
    "numberGood"
   ]
  },
  {
   "cell_type": "markdown",
   "metadata": {},
   "source": [
    "Remove the garbage reads, and construct a smaller data set of with the first 500 reads for testing on the algorithm."
   ]
  },
  {
   "cell_type": "code",
   "execution_count": 379,
   "metadata": {},
   "outputs": [],
   "source": [
    "read1Good = np.array(readR1)[~np.logical_or(GarbageReads1,GarbageReads2)]\n",
    "Quality_R1Good = np.array(Quality_R1)[~np.logical_or(GarbageReads1,GarbageReads2)]\n",
    "read2Good = np.array(readR2)[~np.logical_or(GarbageReads1,GarbageReads2)]\n",
    "Quality_R2Good = np.array(Quality_R2)[~np.logical_or(GarbageReads1,GarbageReads2)]\n",
    "\n",
    "read500Good_1 = read1Good[:500] # First 500 good reads\n",
    "Q500Good_1 = Quality_R1Good[:500]\n",
    "read500Good_2 = read2Good[:500] # First 500 good reads\n",
    "Q500Good_2 = Quality_R2Good[:500]"
   ]
  },
  {
   "cell_type": "markdown",
   "metadata": {},
   "source": [
    "## The Main algorithm\n",
    "\n",
    "Next the main algorithm is given. This exist mainly out of two parts. A function that finds the maximum uniterrupted overlap between a read and the genome and overall loop that goes through all the reads and calls the function.\n",
    "\n",
    "### The function\n",
    "\n",
    "First, we define a function that will give back the position on the genome where the read has a maximum uniterrupted overlap with the genome. To do this the function is provided a list of the different seeds coming from the same read. \n",
    "\n",
    "After creating some variables to save some numbers, the function will loop over each provided seed of that has been given. First a quality check is done to see if the provided seed has high quality and can thus be unsured to be equal to the true read mRNA sequence. \n",
    "\n",
    "For each seed, the function will try to find its maximumly uniterrupted section on the genome. To do this we look up all its matches on the genome with the hash table. For each seed we will then extent to either side on the genome and see how far we get without encountering a mistake. Here, a small check is also perfomed to see if the seed considerd on the genome is not on either side of the chromosone since then the extend might go over the edge.  \n",
    "\n",
    "When looping through all the matches on the genome for each seed of the read the overall maximum extend is saved. This is saved togheter with the its location on the genome and the index on the read where this overlap starts. \n",
    "\n",
    "If a second seed on the genome is found with the same amount of overlap as the current maximum. We first need to perform a check if this is clearly a different regions. This could happend if two provided seeds of the read overlap this region, which will then both give back that same region on the genome. However, if the new overlapping region is found to be different then already current maximum, we also store, rather then overwritting. \n",
    "\n",
    "In the end the function stores a list of all starting position on the genome of regions who all have the same overlapping lenght on the genome, but at different places. When a new maximum lenght is found, all the previous records are flushed and the new list now again only contains this one entry. \n",
    "\n",
    "An additional input entry `after` is given which is used for the mapping of the reverse read. The `after` parameter provided controll over which seeds on the genome should be considerd. Only the matches on the genome behind the position `after` are considerd. By default this is zero, meaning the whole genome is considerd. But this can be used to constraint the search for the reverse read since it is know to lie behind the first read. \n",
    "\n",
    "In the end the function returns the following elements:\n",
    "\n",
    "- maximumExtent: the length of the maximumally constant overlap between the read and the genome:\n",
    "- numberWithMax: the number of overlaps with lenght `maximumExtent` on the genome.\n",
    "- genomeStartPosition: Starting position on the genome for each of the `maximumExtent` overlaps. \n",
    "- startIndexRead: Corresponding index on the Read itself that should be matched with the `genomeStartPosition` to make the overlap. "
   ]
  },
  {
   "cell_type": "code",
   "execution_count": 426,
   "metadata": {},
   "outputs": [],
   "source": [
    "def findMaximumExtend(readSeeds, QReadSeeds, after = 0):\n",
    "    maximumExtent = 0\n",
    "    numberWithMax = 0 # unique amount of genome position with the same amount of extend.\n",
    "    \n",
    "    refNumbers = [] # Reference number is maybe not equal to the genomePosition number!\n",
    "    \n",
    "    genomeStartPosition = []\n",
    "    startIndexRead = []\n",
    "    \n",
    "    for i, (readSeed,QReadSeed) in enumerate(zip(readSeeds,QReadSeeds)):\n",
    "        #Check quality seed:\n",
    "        falseSeed = False\n",
    "        for Q in QReadSeed:\n",
    "            if Q < 15: # Do not allow seeds that have some where quality score of lower then 15\n",
    "                falseSeed=True\n",
    "                break\n",
    "        if falseSeed:\n",
    "            continue\n",
    "        \n",
    "        seedsOnGenome = hashTable[readSeed]\n",
    "        seedsOnGenome = [seed for seed in seedsOnGenome if seed >= after] # Seeds to be considerd should be bigger then\n",
    "        if len(seedsOnGenome) == 0: # Return empty if no seeds are left anymore\n",
    "            return 0,0,[],[]\n",
    "        startPos = k*i\n",
    "        \n",
    "        for seed in seedsOnGenome:\n",
    "            if seed>(len(wholeGenome)-76) or seed<76: # Becarefull with edges cases on the chromosone\n",
    "                continue\n",
    "            extensionLenght = k\n",
    "            startIndex = startPos\n",
    "            startGenome = seed\n",
    "            # Extend to the right\n",
    "            for j in range(76-startPos-k):\n",
    "                if read[startPos+k+j] != wholeGenome[seed + k + j]:\n",
    "                    break\n",
    "                extensionLenght += 1\n",
    "            \n",
    "            # Extend to the left\n",
    "            for j in range(-1,-startPos-1,-1):\n",
    "                if read[startPos+j] != wholeGenome[seed + j]:\n",
    "                    startIndex += (j+1)\n",
    "                    startGenome += (j+1)\n",
    "                    break\n",
    "                extensionLenght += 1  \n",
    "            \n",
    "            if extensionLenght > maximumExtent:\n",
    "                maximumExtent = extensionLenght\n",
    "                numberWithMax = 1\n",
    "                refNumbers = [seed-startPos] # Store the refnumber\n",
    "                genomeStartPosition = [startGenome]\n",
    "                startIndexRead = [startIndex]\n",
    "                \n",
    "            elif extensionLenght == maximumExtent and (seed-startPos) not in refNumbers:\n",
    "                refNumbers.append(seed-startPos)\n",
    "                genomeStartPosition.append(startGenome)\n",
    "                numberWithMax += 1\n",
    "                startIndexRead.append(startIndex)\n",
    "                \n",
    "    return maximumExtent, numberWithMax, genomeStartPosition, startIndexRead"
   ]
  },
  {
   "cell_type": "markdown",
   "metadata": {},
   "source": [
    "### Main loop:\n",
    "\n",
    "In the main loop we go over each forward and reverse read togheter with there quality score. We then first split it into the different seeds "
   ]
  },
  {
   "cell_type": "code",
   "execution_count": 432,
   "metadata": {},
   "outputs": [
    {
     "name": "stdout",
     "output_type": "stream",
     "text": [
      "107.60827231407166\n"
     ]
    }
   ],
   "source": [
    "TimeStart= time.time()\n",
    "\n",
    "boolianRead1 = []\n",
    "boolianRead2 = []\n",
    "\n",
    "MappingR1 = []\n",
    "MappingR2 = []\n",
    "\n",
    "for read1, quality1, read2, quality2 in zip(read1Good, Quality_R1Good, read2Good, Quality_R2Good):\n",
    "    # Split the read in each seed\n",
    "    readSeeds1 = [read1[i:i+k] for i in range(0, len(read1), k)][:-1] \n",
    "    qReadSeeds1 = [quality1[i:i+k] for i in range(0, len(quality1), k)][:-1] \n",
    "    \n",
    "    readSeeds2 = [read2[i:i+k] for i in range(len(read2)%k,len(read2),k)]\n",
    "    qReadSeeds2 = [quality2[i:i+k] for i in range(len(quality2)%k,len(quality2),k)]\n",
    "    \n",
    "    maxExtent1, numWithMax1, genPosition1, IndexRead1 = findMaximumExtend(readSeeds1, qReadSeeds1)\n",
    "    minPosition = 0 if maxExtent1<14 else min(genPosition1)\n",
    "    maxExtent2, numWithMax2, genPosition2, IndexRead2 = findMaximumExtend(readSeeds2, qReadSeeds2, minPosition)\n",
    "    \n",
    "    # Now impose a threshold on the minimum max lenght needed \n",
    "    # Before we are able to tell that this is indeed a hit or not duo random chance\n",
    "    if maxExtent1<15:\n",
    "        # Declare that no mapping was found for this read\n",
    "        maxExtent1 = 0\n",
    "        genPosition1 = []\n",
    "        IndexRead1 = []\n",
    "    if maxExtent1==0 and maxExtent2<15: # if MaxExtent<14 then read2 had the chance to search on the whole genome\n",
    "        # Declare that no mapping was found for this read\n",
    "        maxExtent2 = 0\n",
    "        genPosition2 = []\n",
    "        IndexRead2 = []\n",
    "    if maxExtent1!=0 and maxExtent2<14: # When maxExtent1 is valid then be less harsh on maxExtent2 since the search space was now smaller\n",
    "        maxExtent2 = 0\n",
    "        genPosition2 = []\n",
    "        IndexRead2 = []\n",
    "    \n",
    "    # Save the mappings:\n",
    "    MappingR1.append((IndexRead1, genPosition1, maxExtent1))\n",
    "    MappingR2.append((IndexRead2, genPosition2, maxExtent2))\n",
    "    \n",
    "    # Declare with boolian vector if we found a place for R1 or R2:\n",
    "    if maxExtent1==0:\n",
    "        boolianRead1.append(False)\n",
    "    else:\n",
    "        boolianRead1.append(True)\n",
    "        \n",
    "    if maxExtent2==0:\n",
    "        boolianRead2.append(False)\n",
    "    else:\n",
    "        boolianRead2.append(True)\n",
    "    \n",
    "\n",
    "TimeStop = time.time()\n",
    "print(TimeStop-TimeStart)"
   ]
  },
  {
   "cell_type": "code",
   "execution_count": 433,
   "metadata": {},
   "outputs": [
    {
     "data": {
      "text/plain": [
       "5017"
      ]
     },
     "execution_count": 433,
     "metadata": {},
     "output_type": "execute_result"
    }
   ],
   "source": [
    "np.sum(boolianRead1)"
   ]
  },
  {
   "cell_type": "code",
   "execution_count": 434,
   "metadata": {},
   "outputs": [
    {
     "data": {
      "text/plain": [
       "0.5961972667855021"
      ]
     },
     "execution_count": 434,
     "metadata": {},
     "output_type": "execute_result"
    }
   ],
   "source": [
    "np.sum(boolianRead1)/numberGood"
   ]
  },
  {
   "cell_type": "code",
   "execution_count": 435,
   "metadata": {},
   "outputs": [
    {
     "data": {
      "text/plain": [
       "4316"
      ]
     },
     "execution_count": 435,
     "metadata": {},
     "output_type": "execute_result"
    }
   ],
   "source": [
    "np.sum(boolianRead2)"
   ]
  },
  {
   "cell_type": "code",
   "execution_count": 436,
   "metadata": {},
   "outputs": [
    {
     "data": {
      "text/plain": [
       "0.512893642305407"
      ]
     },
     "execution_count": 436,
     "metadata": {},
     "output_type": "execute_result"
    }
   ],
   "source": [
    "np.sum(boolianRead2)/numberGood"
   ]
  },
  {
   "cell_type": "markdown",
   "metadata": {},
   "source": [
    "#####\n",
    "--------\n",
    "# Other algorithms\n",
    "\n",
    "Below here other algorithms were explored. and are not part any more of the assignm"
   ]
  },
  {
   "cell_type": "markdown",
   "metadata": {},
   "source": [
    "------\n",
    "\n",
    "So now we have a string of the whole genome so we can quickly acces it -> And we have all the reads -> It is now time to start mapping! "
   ]
  },
  {
   "cell_type": "code",
   "execution_count": 1,
   "metadata": {
    "jupyter": {
     "source_hidden": true
    }
   },
   "outputs": [],
   "source": [
    "k = 8"
   ]
  },
  {
   "cell_type": "markdown",
   "metadata": {
    "jupyter": {
     "source_hidden": true
    }
   },
   "source": [
    "let's for now focus on the first 500 reads:"
   ]
  },
  {
   "cell_type": "code",
   "execution_count": 8,
   "metadata": {
    "jupyter": {
     "source_hidden": true
    }
   },
   "outputs": [],
   "source": [
    "read500 = readR1[:500]"
   ]
  },
  {
   "cell_type": "markdown",
   "metadata": {
    "jupyter": {
     "source_hidden": true
    }
   },
   "source": [
    "Current approach for mapping:\n",
    "\n",
    "Break up the read in smaller seed sections: named seed_i, these seeds are next to each other.\n",
    "\n",
    "Then the first round of search is tyring to find an exact match for seed_1 and seed_2 that are that are exactly k distant from each other. \n",
    "\n",
    "Aka we first go through the reads whose first $2*k$ map exactly! If a match is found -> condsider this as the correct starting position. \n",
    "\n",
    "In the first version ignore N's for the moment"
   ]
  },
  {
   "cell_type": "code",
   "execution_count": 11,
   "metadata": {
    "collapsed": true,
    "jupyter": {
     "outputs_hidden": true,
     "source_hidden": true
    }
   },
   "outputs": [
    {
     "data": {
      "text/plain": [
       "(34,\n",
       " [0,\n",
       "  1,\n",
       "  2,\n",
       "  3,\n",
       "  4,\n",
       "  5,\n",
       "  6,\n",
       "  7,\n",
       "  8,\n",
       "  9,\n",
       "  10,\n",
       "  11,\n",
       "  474,\n",
       "  1180,\n",
       "  1720,\n",
       "  1856,\n",
       "  1946,\n",
       "  2622,\n",
       "  2792,\n",
       "  3052,\n",
       "  3460,\n",
       "  4461,\n",
       "  4537,\n",
       "  4659,\n",
       "  4801,\n",
       "  7066,\n",
       "  7152,\n",
       "  7155,\n",
       "  7381,\n",
       "  7694,\n",
       "  8206,\n",
       "  8315,\n",
       "  8969,\n",
       "  8981])"
      ]
     },
     "execution_count": 11,
     "metadata": {},
     "output_type": "execute_result"
    }
   ],
   "source": [
    "num = 0\n",
    "readStartWithN = []\n",
    "for i, read in enumerate(readR1):\n",
    "    if read[0]==\"N\":\n",
    "        num+=1\n",
    "        readStartWithN.append(i)\n",
    "num, readStartWithN"
   ]
  },
  {
   "cell_type": "code",
   "execution_count": 134,
   "metadata": {
    "jupyter": {
     "source_hidden": true
    }
   },
   "outputs": [],
   "source": [
    "def mapping(reads):\n",
    "    mappedReads = []\n",
    "    for read in reads:\n",
    "        seed1 = read[0:k]\n",
    "        seed2 = read[k:2*k]\n",
    "        seed3 = read[2*k:3*k]\n",
    "        if seed1==\"AAAAAAAA\" and seed2 == \"AAAAAAAA\":\n",
    "            possibleLoc = [-1]\n",
    "        else:\n",
    "            possibleLoc = findExactMatch(seed1, seed2, k)\n",
    "        if len(possibleLoc)==0:\n",
    "            possibleLoc = findExactMatch(seed2, seed3, k)\n",
    "        if len(possibleLoc)==0:\n",
    "            possibleLoc = findExactMatch(seed1, seed3, 2*k)\n",
    "        \n",
    "        mappedReads.append(possibleLoc)\n",
    "    return mappedReads"
   ]
  },
  {
   "cell_type": "code",
   "execution_count": 145,
   "metadata": {
    "jupyter": {
     "source_hidden": true
    }
   },
   "outputs": [],
   "source": [
    "def findExactMatch(seed1, seed2, diff):\n",
    "    try:\n",
    "        MatchesSeed1 = hashTable[seed1]\n",
    "        MatchesSeed2 = hashTable[seed2]\n",
    "    except:\n",
    "        return []\n",
    "    N1 = len(MatchesSeed1)\n",
    "    N2 = len(MatchesSeed2)\n",
    "    index1 = 0\n",
    "    index2 = 0\n",
    "    listLoc = []\n",
    "    try:\n",
    "        for i in range(N1+N2): # Maximum search space is N1+N2\n",
    "            if (MatchesSeed2[index2] - MatchesSeed1[index1]) < diff: # Only positif diff is supported!\n",
    "                index2 += 1\n",
    "                if index2>=N2: # We ran out of r2 seeds\n",
    "                    break\n",
    "            elif (MatchesSeed2[index2] - MatchesSeed1[index1]) > diff:\n",
    "                index1 +=1\n",
    "                if index1>=N1:\n",
    "                    break\n",
    "            else:\n",
    "                listLoc.append(MatchesSeed1[index1])\n",
    "                index1 += 1\n",
    "                index2 += 1\n",
    "                if index2>=N2 or index1>=N1: # We ran out of r2 seeds\n",
    "                    break\n",
    "    except:\n",
    "        print(\"Error:\")\n",
    "        print(f\"N1={N1}, N2={N2}\")\n",
    "        print(f\"index1={index1}, index2={index2}\")\n",
    "    return listLoc"
   ]
  },
  {
   "cell_type": "code",
   "execution_count": 146,
   "metadata": {},
   "outputs": [],
   "source": [
    "mapping10000 = mapping(readR1)"
   ]
  },
  {
   "cell_type": "code",
   "execution_count": 153,
   "metadata": {
    "jupyter": {
     "source_hidden": true
    }
   },
   "outputs": [
    {
     "data": {
      "text/plain": [
       "1256"
      ]
     },
     "execution_count": 153,
     "metadata": {},
     "output_type": "execute_result"
    }
   ],
   "source": [
    "lengthMap = []\n",
    "count=0\n",
    "for l in mapping10000:\n",
    "    if len(l)!=0 and l!=[-1]:\n",
    "        count+=1\n",
    "        lengthMap.append(len(l))\n",
    "count"
   ]
  },
  {
   "cell_type": "code",
   "execution_count": 157,
   "metadata": {
    "collapsed": true,
    "jupyter": {
     "outputs_hidden": true,
     "source_hidden": true
    }
   },
   "outputs": [
    {
     "data": {
      "text/plain": [
       "(array([   0.,    0.,    0.,    0.,    0.,    0.,    0.,    0.,    0.,\n",
       "           0., 1097.,    0.,    0.,    0.,    0.,    0.,    0.,    0.,\n",
       "           0.,    0.,   53.,    0.,    0.,    0.,    0.,    0.,    0.,\n",
       "           0.,    0.,    0.,    9.,    0.,    0.,    0.,    0.,    0.,\n",
       "           0.,    0.,    0.,    0.,   14.,    0.,    0.,    0.,    0.,\n",
       "           0.,    0.,    0.,    0.,    6.]),\n",
       " array([0. , 0.1, 0.2, 0.3, 0.4, 0.5, 0.6, 0.7, 0.8, 0.9, 1. , 1.1, 1.2,\n",
       "        1.3, 1.4, 1.5, 1.6, 1.7, 1.8, 1.9, 2. , 2.1, 2.2, 2.3, 2.4, 2.5,\n",
       "        2.6, 2.7, 2.8, 2.9, 3. , 3.1, 3.2, 3.3, 3.4, 3.5, 3.6, 3.7, 3.8,\n",
       "        3.9, 4. , 4.1, 4.2, 4.3, 4.4, 4.5, 4.6, 4.7, 4.8, 4.9, 5. ]),\n",
       " <a list of 50 Patch objects>)"
      ]
     },
     "execution_count": 157,
     "metadata": {},
     "output_type": "execute_result"
    },
    {
     "data": {
      "image/png": "[encoded data removed]",
      "text/plain": [
       "<Figure size 432x288 with 1 Axes>"
      ]
     },
     "metadata": {
      "needs_background": "light"
     },
     "output_type": "display_data"
    }
   ],
   "source": [
    "plt.hist(lengthMap,50,(0,5))"
   ]
  },
  {
   "cell_type": "markdown",
   "metadata": {},
   "source": [
    "With this appraoch roughly 10 % can be found! -> This does not reduces it enough to now try a more expensive one. \n",
    "\n",
    "But can be done really quick ! So maybe we can try to do it less hard!"
   ]
  },
  {
   "cell_type": "markdown",
   "metadata": {},
   "source": [
    "With this approach -> "
   ]
  },
  {
   "cell_type": "code",
   "execution_count": 198,
   "metadata": {
    "jupyter": {
     "source_hidden": true
    }
   },
   "outputs": [],
   "source": [
    "\n",
    "readMapping = []\n",
    "\n",
    "invalidM1 = 0\n",
    "above1000 = 0\n",
    "listMaxExtend = []\n",
    "\n",
    "for read in read500:\n",
    "    try:\n",
    "        matches1 = hashTable[read[0:k]]\n",
    "    except:\n",
    "        invalidM1 +=1\n",
    "        continue\n",
    "#     if len(matches1)>1000:\n",
    "#         above1000 +=1\n",
    "#         continue\n",
    "    # -------\n",
    "    # Seed and extend\n",
    "    extend = []\n",
    "    for seed in matches1:\n",
    "        for i in range(k+1,75):\n",
    "            if read[:i]!=wholeGenome[seed:seed+i]:\n",
    "                extend.append(i) \n",
    "                break\n",
    "    listMaxExtend.append(extend)"
   ]
  },
  {
   "cell_type": "code",
   "execution_count": 212,
   "metadata": {
    "jupyter": {
     "source_hidden": true
    }
   },
   "outputs": [],
   "source": [
    "maxExtend = []\n",
    "numberOfMaxExtend = []\n",
    "for l in listMaxExtend:\n",
    "    l = np.array(l)\n",
    "    maxExtend.append(max(l))\n",
    "    numberOfMaxExtend.append(np.sum(l==max(l)))"
   ]
  },
  {
   "cell_type": "code",
   "execution_count": 209,
   "metadata": {
    "collapsed": true,
    "jupyter": {
     "outputs_hidden": true,
     "source_hidden": true
    }
   },
   "outputs": [
    {
     "data": {
      "image/png": "[encoded data removed]",
      "text/plain": [
       "<Figure size 504x360 with 1 Axes>"
      ]
     },
     "metadata": {
      "needs_background": "light"
     },
     "output_type": "display_data"
    }
   ],
   "source": [
    "fig = plt.figure(figsize=(7,5))\n",
    "plt.hist(maxExtend,11,(k+1,20))\n",
    "plt.title(\"MaxExtend with the first seed a match, k=8\")\n",
    "plt.xlabel(\"Extend\")\n",
    "plt.ylabel(\"Extend\")\n",
    "fig.savefig(\"MaxExtendk8\")"
   ]
  },
  {
   "cell_type": "code",
   "execution_count": 216,
   "metadata": {},
   "outputs": [
    {
     "data": {
      "text/plain": [
       "(array([  0., 253.,  90.,  57.,  29.,  19.,   5.,   8.,   6.,   3.,   3.,\n",
       "          4.,   1.,   1.,   2.,   0.,   1.,   0.,   0.,   0.]),\n",
       " array([ 0.,  1.,  2.,  3.,  4.,  5.,  6.,  7.,  8.,  9., 10., 11., 12.,\n",
       "        13., 14., 15., 16., 17., 18., 19., 20.]),\n",
       " <a list of 20 Patch objects>)"
      ]
     },
     "execution_count": 216,
     "metadata": {},
     "output_type": "execute_result"
    },
    {
     "data": {
      "image/png": "[encoded data removed]",
      "text/plain": [
       "<Figure size 432x288 with 1 Axes>"
      ]
     },
     "metadata": {
      "needs_background": "light"
     },
     "output_type": "display_data"
    }
   ],
   "source": [
    "plt.hist(numberOfMaxExtend,20,(0,20))"
   ]
  },
  {
   "cell_type": "markdown",
   "metadata": {},
   "source": [
    "------\n",
    "\n",
    "Let's now allow some extension with errors\n",
    "\n",
    "Evaluate different amounts of errors.  1,2,3 (and so how much we can further extend)"
   ]
  },
  {
   "cell_type": "code",
   "execution_count": 235,
   "metadata": {
    "jupyter": {
     "source_hidden": true
    }
   },
   "outputs": [],
   "source": [
    "testL1 = \"ACTAG\"\n",
    "testL2 = \"CCTAG\""
   ]
  },
  {
   "cell_type": "code",
   "execution_count": 279,
   "metadata": {
    "jupyter": {
     "source_hidden": true
    }
   },
   "outputs": [],
   "source": [
    "readMapping = []\n",
    "\n",
    "invalidM1 = 0\n",
    "above1000 = 0\n",
    "listWithNoError = []\n",
    "listWithOneError = []\n",
    "listWithTwoError = []\n",
    "listReachedEnd = []\n",
    "\n",
    "for read in read500:\n",
    "    try:\n",
    "        matches1 = hashTable[read[0:k]]\n",
    "    except:\n",
    "        invalidM1 +=1\n",
    "        continue\n",
    "#     if len(matches1)>1000:\n",
    "#         above1000 +=1\n",
    "#         continue\n",
    "    # -------\n",
    "    # Seed and extend\n",
    "    \n",
    "    extWithNoError = []\n",
    "    extWithOneError = []\n",
    "    extWithTwoError = []\n",
    "    \n",
    "    ReachedEnd = []\n",
    "    \n",
    "    for seed in matches1:\n",
    "        Errors = 0\n",
    "        for i in range(k,75):\n",
    "            if read[i]!=wholeGenome[seed+i]:\n",
    "                Errors += 1\n",
    "                if Errors == 1:\n",
    "                    extWithNoError.append(i)\n",
    "                elif Errors ==2:\n",
    "                    extWithOneError.append(i)\n",
    "                elif Errors==3:\n",
    "                    extWithTwoError.append(i)\n",
    "                    break\n",
    "        ReachedEnd.append(Errors)\n",
    "            \n",
    "    #indexMax = np.where(extend == np.amax(extend))[0]\n",
    "    \n",
    "    listWithNoError.append(extWithNoError)\n",
    "    listWithOneError.append(extWithOneError)\n",
    "    listWithTwoError.append(extWithTwoError)\n",
    "    listReachedEnd.append(ReachedEnd)"
   ]
  },
  {
   "cell_type": "code",
   "execution_count": 252,
   "metadata": {
    "collapsed": true,
    "jupyter": {
     "outputs_hidden": true,
     "source_hidden": true
    }
   },
   "outputs": [
    {
     "data": {
      "text/plain": [
       "array([5])"
      ]
     },
     "execution_count": 252,
     "metadata": {},
     "output_type": "execute_result"
    }
   ],
   "source": [
    "testList = [0,5,4,3,7,8]\n",
    "np.where(testList == np.amax(testList))[0]"
   ]
  },
  {
   "cell_type": "code",
   "execution_count": 272,
   "metadata": {
    "collapsed": true,
    "jupyter": {
     "outputs_hidden": true,
     "source_hidden": true
    }
   },
   "outputs": [
    {
     "data": {
      "text/plain": [
       "array([8, 9])"
      ]
     },
     "execution_count": 272,
     "metadata": {},
     "output_type": "execute_result"
    }
   ],
   "source": [
    "np.arange(10)[8:]"
   ]
  },
  {
   "cell_type": "code",
   "execution_count": 280,
   "metadata": {
    "jupyter": {
     "source_hidden": true
    }
   },
   "outputs": [],
   "source": [
    "maxExtendNoError = []\n",
    "numExtendNoError = []\n",
    "for l in listWithNoError:\n",
    "    l = np.array(l)\n",
    "    maxExtendNoError.append(max(l))\n",
    "    numExtendNoError.append(np.sum(l==max(l)))\n",
    "    \n",
    "maxExtendOneError = []\n",
    "numExtendOneError = []\n",
    "for l in listWithOneError:\n",
    "    l = np.array(l)\n",
    "    maxExtendOneError.append(max(l))\n",
    "    numExtendOneError.append(np.sum(l==max(l)))\n",
    "    \n",
    "maxExtendTwoError = []\n",
    "numExtendTwoError = []\n",
    "for l in listWithTwoError:\n",
    "    l = np.array(l)\n",
    "    maxExtendTwoError.append(max(l))\n",
    "    numExtendTwoError.append(np.sum(l==max(l)))\n",
    "    \n",
    "maxReachedEnd = []\n",
    "numReachedEnd = []\n",
    "for l in listReachedEnd:\n",
    "    l = np.array(l)\n",
    "    maxReachedEnd.append(max(l))\n",
    "    numReachedEnd.append(np.sum(l==max(l)))"
   ]
  },
  {
   "cell_type": "code",
   "execution_count": 285,
   "metadata": {
    "jupyter": {
     "source_hidden": true
    }
   },
   "outputs": [
    {
     "data": {
      "image/png": "[encoded data removed]",
      "text/plain": [
       "<Figure size 504x360 with 1 Axes>"
      ]
     },
     "metadata": {
      "needs_background": "light"
     },
     "output_type": "display_data"
    }
   ],
   "source": [
    "fig = plt.figure(figsize=(7,5))\n",
    "plt.hist(maxExtendNoError,13,range=(7,20))\n",
    "plt.title(\"MaxExtend without an error, k=8\")\n",
    "plt.xlabel(\"Extend\")\n",
    "plt.ylabel(\"Extend\")\n",
    "fig.savefig(\"MaxExtendk8\")"
   ]
  },
  {
   "cell_type": "markdown",
   "metadata": {},
   "source": [
    "-> From this we conclude that, actually in most cases you can only extend up to 12 basis without making a mistake!"
   ]
  },
  {
   "cell_type": "code",
   "execution_count": 290,
   "metadata": {
    "collapsed": true,
    "jupyter": {
     "outputs_hidden": true,
     "source_hidden": true
    }
   },
   "outputs": [
    {
     "data": {
      "image/png": "[encoded data removed]",
      "text/plain": [
       "<Figure size 504x360 with 1 Axes>"
      ]
     },
     "metadata": {
      "needs_background": "light"
     },
     "output_type": "display_data"
    }
   ],
   "source": [
    "fig = plt.figure(figsize=(7,5))\n",
    "plt.hist(maxExtendOneError,13,range=(7,20))\n",
    "plt.title(\"MaxExtend with one error allowed, k=8\")\n",
    "plt.xlabel(\"Extend\")\n",
    "plt.ylabel(\"Extend\")\n",
    "fig.savefig(\"MaxExtendk8\")"
   ]
  },
  {
   "cell_type": "code",
   "execution_count": 297,
   "metadata": {
    "jupyter": {
     "source_hidden": true
    }
   },
   "outputs": [
    {
     "data": {
      "image/png": "[encoded data removed]",
      "text/plain": [
       "<Figure size 504x360 with 1 Axes>"
      ]
     },
     "metadata": {
      "needs_background": "light"
     },
     "output_type": "display_data"
    }
   ],
   "source": [
    "fig = plt.figure(figsize=(7,5))\n",
    "plt.hist(maxExtendTwoError,12,range=(8,20))\n",
    "plt.title(\"MaxExtend with one error allowed, k=8\")\n",
    "plt.xlabel(\"Extend\")\n",
    "plt.ylabel(\"Extend\")\n",
    "fig.savefig(\"MaxExtendk8\")"
   ]
  },
  {
   "cell_type": "markdown",
   "metadata": {},
   "source": [
    "-> The number at 75 does increase significantly if we allow a bit more errors. "
   ]
  },
  {
   "cell_type": "markdown",
   "metadata": {},
   "source": [
    "---------\n",
    "\n",
    "Map with score:"
   ]
  },
  {
   "cell_type": "code",
   "execution_count": 369,
   "metadata": {},
   "outputs": [],
   "source": [
    "Q500 = Quality_R1[:500]"
   ]
  },
  {
   "cell_type": "code",
   "execution_count": 327,
   "metadata": {},
   "outputs": [],
   "source": [
    "ListScores = []\n",
    "for read, Quality in zip(read500, Q500):\n",
    "    try:\n",
    "        matches1 = hashTable[read[0:k]]\n",
    "    except:\n",
    "        invalidM1 +=1\n",
    "        continue\n",
    "    if len(matches1)>1000:\n",
    "        above1000 +=1\n",
    "        continue\n",
    "    # -------\n",
    "    # Seed and extend\n",
    "    \n",
    "    \n",
    "    ScoreRead = []\n",
    "    for seed in matches1:\n",
    "        score = [0]\n",
    "        for i in range(k,75):\n",
    "            if read[i]!=wholeGenome[seed+i]:\n",
    "                score.append(Quality[i])\n",
    "        ScoreRead.append(score)\n",
    "    ListScores.append(ScoreRead)"
   ]
  },
  {
   "cell_type": "code",
   "execution_count": 378,
   "metadata": {},
   "outputs": [],
   "source": [
    "for i, readQ in enumerate(Q500):\n",
    "    for j, q in enumerate(readQ):\n",
    "        if q>40:\n",
    "            print(i,j)\n",
    "            print(f\"q={q}\")"
   ]
  },
  {
   "cell_type": "markdown",
   "metadata": {},
   "source": [
    "-> All the scores seem to be really high ! There is no value below 33. While and all the rest is always in the range 50->60 I think the scale is here different. Because when we get a \"D\" which should be aqualtiy of 33 -> 0.999% it is would be guessed wrong -> is unknow. Hence, I think the zero value is \"A\" instead thus 65 instead of 33-> This would explain non reads with score D and the \"AAAAAAAAAAA\" who have score B. \n",
    "\n",
    "Wiki page: https://en.wikipedia.org/wiki/FASTQ_format encoding! All Q scores of 2 or lower are set to 2 -> Aka B! B= baddes score!\n",
    "\n",
    "-> The wiki confirms the scoring starts from asci 64 to 126!"
   ]
  },
  {
   "cell_type": "code",
   "execution_count": 362,
   "metadata": {
    "collapsed": true,
    "jupyter": {
     "outputs_hidden": true
    }
   },
   "outputs": [
    {
     "data": {
      "text/plain": [
       "[0,\n",
       " 64,\n",
       " 65,\n",
       " 65,\n",
       " 65,\n",
       " 65,\n",
       " 65,\n",
       " 64,\n",
       " 64,\n",
       " 65,\n",
       " 63,\n",
       " 64,\n",
       " 64,\n",
       " 58,\n",
       " 64,\n",
       " 64,\n",
       " 63,\n",
       " 61,\n",
       " 64,\n",
       " 62,\n",
       " 63,\n",
       " 64,\n",
       " 54,\n",
       " 53,\n",
       " 61,\n",
       " 63,\n",
       " 56,\n",
       " 61,\n",
       " 60,\n",
       " 60,\n",
       " 60,\n",
       " 60,\n",
       " 62,\n",
       " 62,\n",
       " 54,\n",
       " 53,\n",
       " 56,\n",
       " 59,\n",
       " 56,\n",
       " 59,\n",
       " 57,\n",
       " 50,\n",
       " 59,\n",
       " 48,\n",
       " 58,\n",
       " 50,\n",
       " 60,\n",
       " 58,\n",
       " 44,\n",
       " 53,\n",
       " 53]"
      ]
     },
     "execution_count": 362,
     "metadata": {},
     "output_type": "execute_result"
    }
   ],
   "source": [
    "plt.plot(ListScores[0][0])"
   ]
  },
  {
   "cell_type": "code",
   "execution_count": 384,
   "metadata": {},
   "outputs": [
    {
     "data": {
      "text/plain": [
       "[<matplotlib.lines.Line2D at 0x7f883efc62b0>]"
      ]
     },
     "execution_count": 384,
     "metadata": {},
     "output_type": "execute_result"
    },
    {
     "data": {
      "image/png": "[encoded data removed]",
      "text/plain": [
       "<Figure size 432x288 with 1 Axes>"
      ]
     },
     "metadata": {
      "needs_background": "light"
     },
     "output_type": "display_data"
    }
   ],
   "source": [
    "plt.plot(Quality_R1[90])"
   ]
  },
  {
   "cell_type": "markdown",
   "metadata": {},
   "source": [
    "-----------------------------------\n",
    "\n",
    "# Seed and expand"
   ]
  },
  {
   "cell_type": "code",
   "execution_count": 10,
   "metadata": {},
   "outputs": [],
   "source": [
    "read500 = readR1[:500]\n",
    "Q500 = Quality_R1[:500]\n",
    "k = 8"
   ]
  },
  {
   "cell_type": "markdown",
   "metadata": {},
   "source": [
    "Define what is garbage:"
   ]
  },
  {
   "cell_type": "code",
   "execution_count": 69,
   "metadata": {},
   "outputs": [],
   "source": [
    "GarbageReads = []\n",
    "Garbage = 0 \n",
    "for Quality in Quality_R1:\n",
    "    IsGarbage = np.quantile(Quality,0.50)<10\n",
    "    if IsGarbage:\n",
    "        Garbage+=1\n",
    "    GarbageReads.append(IsGarbage)"
   ]
  },
  {
   "cell_type": "markdown",
   "metadata": {},
   "source": [
    "Remove garbage Reads:"
   ]
  },
  {
   "cell_type": "code",
   "execution_count": 80,
   "metadata": {},
   "outputs": [],
   "source": [
    "read1Good = np.array(readR1)[~np.array(GarbageReads)]\n",
    "Quality_R1Good = np.array(Quality_R1)[~np.array(GarbageReads)]\n",
    "read500Good = read1Good[:500] # First 500 good reads\n",
    "Q500Good = Quality_R1Good[:500]"
   ]
  },
  {
   "cell_type": "code",
   "execution_count": 175,
   "metadata": {},
   "outputs": [
    {
     "name": "stdout",
     "output_type": "stream",
     "text": [
      "0.7579610347747803\n"
     ]
    }
   ],
   "source": [
    "TimeStart= time.time()\n",
    "\n",
    "RangeGoodStart = 20 #Range of quality check for starting seed\n",
    "ScoreThreshold = 100\n",
    "WeedingOutRegion = 14 # After how much extra reads should we consider by weeding out. \n",
    "\n",
    "listWhereGetsOut = []\n",
    "listCandidateSeeds = []\n",
    "\n",
    "for read, Quality in zip(read500Good, Q500Good):\n",
    "    ### Find Good Starting Seed:\n",
    "    start = 0\n",
    "    foundStartSeed = False\n",
    "    for i in range(RangeGoodStart): \n",
    "        if Quality[i] < 10: # Condsider an extremely read seed a score below 10\n",
    "            start = i+1 #Then the next best possible start could only be i+1\n",
    "        if i-start == (k-1):\n",
    "            foundStartSeed = True\n",
    "            break\n",
    "    if not foundStartSeed:\n",
    "        continue # Go to the next read\n",
    "        \n",
    "    ### Seed and expand\n",
    "    SeedRead = read[start:start+k]\n",
    "    seeds = hashTable[SeedRead]\n",
    "    \n",
    "    candidateSeeds = []\n",
    "    whereGetsOut = []\n",
    "    for seed in seeds:\n",
    "        score = 0 # Keep track of score.\n",
    "        # Expand to the right (99% has start 0 or 1 -> So go to the right)\n",
    "        falseSeed = False\n",
    "        for i in range(start+k , start+k+WeedingOutRegion): # Start from k since we now that \n",
    "            if read[i]!=wholeGenome[seed+i]: # If mistake occurs add it to the score\n",
    "                score += Quality[i]\n",
    "            if score > ScoreThreshold:\n",
    "                falseSeed = True\n",
    "                whereGetsOut.append(i-start-k) # Return itteration at where they left out\n",
    "                break\n",
    "        if not falseSeed:\n",
    "            candidateSeeds.append(seed)\n",
    "            \n",
    "    listWhereGetsOut.append(whereGetsOut)\n",
    "    listCandidateSeeds.append(candidateSeeds)\n",
    "    \n",
    "#     if len(candidateSeeds) > 50:\n",
    "#         print(f\"len(candidateSeeds)= {len(candidateSeeds)}\")\n",
    "#         print(read)\n",
    "#         print(Quality)\n",
    "    \n",
    "    \n",
    "\n",
    "TimeStop = time.time()\n",
    "print(TimeStop-TimeStart)"
   ]
  },
  {
   "cell_type": "markdown",
   "metadata": {},
   "source": [
    "#### Discussion on scoring and stuff:\n",
    "\n",
    "With score: 50 and test in the next 10: -> 453 do not make it! (only 35 with just one / 5 with two and 2) We see those with many matches have either all A's or but with high quality read. Or very repatative sequence. -> I do belivie that these reads can be correct. However there is no way to match them correctly for us! So hence we will not consider them in the mapping!\n",
    "\n",
    "So after whatching in detail some allignment indeed seems to work like how I want -> But there are just many reads that thus seem to stop early.\n",
    "\n",
    "\n",
    "----\n",
    "Lowering the number the region in which you look (to 6), Seems to help, howver still a consider amount is in the 0 and many are there now really seems to be a distribution from 0 to 15 -> Most of these or probably false positives. Let's be a bit kinder with the score.\n",
    "\n",
    "Keeping it at extended range 10: But now having a higher score: 70 (should allow two high permutations) -> Highering the score does not really seem to help. That much only 87 are with one and many other with many more:\n",
    "\n",
    "Having a extended region 6 with 70: -> Way to many values positives! \n"
   ]
  },
  {
   "cell_type": "code",
   "execution_count": 176,
   "metadata": {},
   "outputs": [
    {
     "data": {
      "text/plain": [
       "(array([449.,  37.,   7.,   2.,   0.,   0.,   0.,   0.,   0.,   0.,   0.,\n",
       "          0.,   0.,   0.,   0.,   0.,   0.,   0.,   0.,   0.]),\n",
       " array([ 0.,  1.,  2.,  3.,  4.,  5.,  6.,  7.,  8.,  9., 10., 11., 12.,\n",
       "        13., 14., 15., 16., 17., 18., 19., 20.]),\n",
       " <a list of 20 Patch objects>)"
      ]
     },
     "execution_count": 176,
     "metadata": {},
     "output_type": "execute_result"
    },
    {
     "data": {
      "image/png": "[encoded data removed]",
      "text/plain": [
       "<Figure size 432x288 with 1 Axes>"
      ]
     },
     "metadata": {
      "needs_background": "light"
     },
     "output_type": "display_data"
    }
   ],
   "source": [
    "numberCandidates= []\n",
    "for candidates in listCandidateSeeds:\n",
    "    numberCandidates.append(len(candidates))\n",
    "np.array(numberCandidates)[np.array(numberCandidates)>3]\n",
    "plt.hist(numberCandidates,20,(0,20))"
   ]
  },
  {
   "cell_type": "code",
   "execution_count": 164,
   "metadata": {},
   "outputs": [
    {
     "data": {
      "text/plain": [
       "(array([  0., 116.,  31.,  13.,   1.,   0.,   0.,   0.,   0.,   0.]),\n",
       " array([ 0.,  1.,  2.,  3.,  4.,  5.,  6.,  7.,  8.,  9., 10.]),\n",
       " <a list of 10 Patch objects>)"
      ]
     },
     "execution_count": 164,
     "metadata": {},
     "output_type": "execute_result"
    },
    {
     "data": {
      "image/png": "[encoded data removed]",
      "text/plain": [
       "<Figure size 432x288 with 1 Axes>"
      ]
     },
     "metadata": {
      "needs_background": "light"
     },
     "output_type": "display_data"
    }
   ],
   "source": [
    "read = 17\n",
    "plt.hist(listWhereGetsOut[read], 10,(0,10))"
   ]
  },
  {
   "cell_type": "markdown",
   "metadata": {},
   "source": [
    "Print for a given read the genome that had a high and evaluate if the seed was good or not:"
   ]
  },
  {
   "cell_type": "code",
   "execution_count": 160,
   "metadata": {},
   "outputs": [
    {
     "name": "stdout",
     "output_type": "stream",
     "text": [
      "127\n",
      "-------------------\n",
      "GACTTAGAGGAATTTCAGAAGGTCTATAATTGCGTCAACAAGTCGTTGTTTTGTGTTTTGATCCAACCCCGGATAG\n",
      "GACTTAGAGGCACTCGACTTGGACCAAAGTTTGCATTGGATAGGTCATTCATATGCGCGGGTGGACAGCGTGGCAT\n",
      "[33 33 34 33 33 33 29 30 32 33 34 34 33 33 33 32 33 33 33 33 33 32 33 33\n",
      " 33 31 23 31 32 27 32 33 33 34 33 33 33 33 33 27 32 30 29 33 27 33 32 33\n",
      " 33 32 29 31 29 30 32 32 32 33 31 30 28 15 28 32 26 24 16 28 29 30 13 26\n",
      " 29 28 22 32]\n"
     ]
    }
   ],
   "source": [
    "read = 17\n",
    "seedRead = read500Good[read][0:8] # Assume no start\n",
    "matches =  hashTable[seedRead]\n",
    "indexGoodSeed = np.where(np.array(listWhereGetsOut[read])==4)\n",
    "# Seed \n",
    "for index in indexGoodSeed[0]:\n",
    "    print(index)\n",
    "    goodSeedGenomPos = matches[index]\n",
    "    print(\"-------------------\")\n",
    "    print(wholeGenome[goodSeedGenomPos:goodSeedGenomPos+76])\n",
    "    print(read500Good[read])\n",
    "    print(Quality_R1Good[read])"
   ]
  },
  {
   "cell_type": "markdown",
   "metadata": {},
   "source": [
    "#### Discussion on Garbage and good start:\n",
    "\n",
    "By removing garbage read we have drastically improven the quality and we are now able to always find a good start condition! (for the whole 10000 data set!)\n",
    "\n",
    "From the 10000 Reads:\n",
    "\n",
    "- 9479 non garbage 94.79% ( I know that 80% is low quality first quantile <10)\n",
    "- 9400 Have a good first start = 99.16 %\n",
    "- 32 Have a good start at 1.\n",
    "- Of those starting with >2 -> The median quality is above 20 So definitly workable!"
   ]
  },
  {
   "cell_type": "code",
   "execution_count": 263,
   "metadata": {},
   "outputs": [
    {
     "name": "stdout",
     "output_type": "stream",
     "text": [
      "2.086927890777588\n"
     ]
    }
   ],
   "source": [
    "TimeStart= time.time()\n",
    "\n",
    "ScoreThreshold = 40\n",
    "\n",
    "ListCandidateRight = []\n",
    "ListCandidateLeft = []\n",
    "\n",
    "for readNum, (read, Quality) in enumerate(zip(read500Good, Q500Good)):\n",
    "    # Split the read in each seed\n",
    "    readSeeds = [read[i:i+k] for i in range(0, len(read), k)][:-1] \n",
    "    QReadSeeds = [Quality[i:i+k] for i in range(0, len(Quality), k)][:-1] \n",
    "    \n",
    "    possibleCandidatesRight = []\n",
    "    possibleCandidatesLeft = []\n",
    "    \n",
    "    for i, (readSeed,QReadSeed) in enumerate(zip(readSeeds,QReadSeeds)):\n",
    "        # Check seed quality\n",
    "        falseSeed = False\n",
    "        for Q in QReadSeed:\n",
    "            if Q < 15: # Do not allow seeds that have some where quality score of lower then 15\n",
    "                falseSeed=True\n",
    "                break\n",
    "        if falseSeed:\n",
    "            continue\n",
    "        \n",
    "        # Search for possible positions on the genome via the seed and extend on both the left and right side\n",
    "        startPos =  k*i\n",
    "        seedsGenome = hashTable[SeedRead]\n",
    "        \n",
    "        rightCandidateSeeds = []\n",
    "        leftCandidateSeeds = []\n",
    "        \n",
    "        for seed in seedsGenome:\n",
    "            ##Right\n",
    "            if (startPos+k+k)<75:\n",
    "                RightScore = 0\n",
    "                ReachedRightThreshold = False\n",
    "                for j in range(k,k+k):\n",
    "                    if read[startPos+j] != wholeGenome[seed+j]:\n",
    "                        RightScore += Quality[startPos+j]\n",
    "                        if RightScore>ScoreThreshold:\n",
    "                            ReachedRightThreshold = True \n",
    "                            break\n",
    "                if not ReachedRightThreshold:\n",
    "                    rightCandidateSeeds.append(seed-startPos) # Normalise to the start of the readPos.\n",
    "            \n",
    "            ##Left \n",
    "            if (startPos-k)<0:\n",
    "                LeftScore = 0\n",
    "                ReachedLeftThreshold = False\n",
    "                for j in range(0,-k,-1):\n",
    "                    if read[startPos+j] != wholeGenome[seed+j]:\n",
    "                        LeftScore += Quality[startPos+j]\n",
    "                        if LeftScore>ScoreThreshold:\n",
    "                            ReachedLeftThreshold = True \n",
    "                            break    \n",
    "                if not ReachedLeftThreshold:\n",
    "                    leftCandidateSeeds.append(seed-startPos) # Normalise to the start of the readPos.\n",
    "                \n",
    "        possibleCandidatesRight.append(rightCandidateSeeds)\n",
    "        possibleCandidatesLeft.append(leftCandidateSeeds)\n",
    "    \n",
    "    ListCandidateRight.append(possibleCandidatesRight)\n",
    "    ListCandidateLeft.append(possibleCandidatesLeft)\n",
    "\n",
    "TimeStop = time.time()\n",
    "print(TimeStop-TimeStart)"
   ]
  },
  {
   "cell_type": "code",
   "execution_count": 231,
   "metadata": {},
   "outputs": [
    {
     "name": "stdout",
     "output_type": "stream",
     "text": [
      "[33 32 32 33 30 33 32 32 32 32 32 32 30 33 32 33 32 32 32 30 33 32 30 33\n",
      " 28 28 32 33 32 32 32 32 32 29 24 30 29 29 28 29 31 32 33 32 32 30 30 33\n",
      " 28 28 30 28 30 32 29 28 28 32 20 32 25 28 28 19 25 29 24 18 28 25 25 28\n",
      " 24 18 18 22]\n"
     ]
    }
   ],
   "source": [
    "read = 14\n",
    "print(Q500Good[read])"
   ]
  },
  {
   "cell_type": "markdown",
   "metadata": {},
   "source": [
    "--------------------------------------------\n",
    "\n",
    "The approach with the score does not seem to be working...\n",
    "\n",
    "We now try with exact matching. -> For each read divide it into sub reads and try to maximumly extend! Define a lenght of which we can then say this could not have happend with chance. "
   ]
  },
  {
   "cell_type": "code",
   "execution_count": 268,
   "metadata": {},
   "outputs": [
    {
     "name": "stdout",
     "output_type": "stream",
     "text": [
      "0 23513712.0\n",
      "1 5878428.0\n",
      "2 1469607.0\n",
      "3 367401.75\n",
      "4 91850.4375\n",
      "5 22962.609375\n",
      "6 5740.65234375\n",
      "7 1435.1630859375\n",
      "8 358.790771484375\n",
      "9 89.69769287109375\n",
      "10 22.424423217773438\n",
      "11 5.606105804443359\n",
      "12 1.4015264511108398\n",
      "13 0.35038161277770996\n",
      "14 0.08759540319442749\n",
      "15 0.021898850798606873\n",
      "16 0.005474712699651718\n",
      "17 0.0013686781749129295\n",
      "18 0.0003421695437282324\n",
      "19 8.55423859320581e-05\n"
     ]
    }
   ],
   "source": [
    "for N in range(20):\n",
    "    print(N, len(wholeGenome)/pow(4,N))"
   ]
  },
  {
   "cell_type": "code",
   "execution_count": null,
   "metadata": {},
   "outputs": [],
   "source": []
  },
  {
   "cell_type": "code",
   "execution_count": 377,
   "metadata": {},
   "outputs": [],
   "source": [
    "GarbageReads1 = []\n",
    "for Quality1 in Quality_R1:\n",
    "    GarbageReads1.append(np.quantile(Quality1,0.50)<10)\n",
    "GarbageReads2 = []\n",
    "for Quality2 in Quality_R2:\n",
    "    GarbageReads2.append(np.quantile(Quality2,0.50)<10)"
   ]
  },
  {
   "cell_type": "code",
   "execution_count": 421,
   "metadata": {},
   "outputs": [
    {
     "data": {
      "text/plain": [
       "8415"
      ]
     },
     "execution_count": 421,
     "metadata": {},
     "output_type": "execute_result"
    }
   ],
   "source": [
    "numberGood = 10000 - np.sum(np.logical_or(GarbageReads1,GarbageReads2))\n",
    "numberGood"
   ]
  },
  {
   "cell_type": "code",
   "execution_count": 379,
   "metadata": {},
   "outputs": [],
   "source": [
    "read1Good = np.array(readR1)[~np.logical_or(GarbageReads1,GarbageReads2)]\n",
    "Quality_R1Good = np.array(Quality_R1)[~np.logical_or(GarbageReads1,GarbageReads2)]\n",
    "read2Good = np.array(readR2)[~np.logical_or(GarbageReads1,GarbageReads2)]\n",
    "Quality_R2Good = np.array(Quality_R2)[~np.logical_or(GarbageReads1,GarbageReads2)]\n",
    "\n",
    "read500Good_1 = read1Good[:500] # First 500 good reads\n",
    "Q500Good_1 = Quality_R1Good[:500]\n",
    "read500Good_2 = read2Good[:500] # First 500 good reads\n",
    "Q500Good_2 = Quality_R2Good[:500]"
   ]
  },
  {
   "cell_type": "code",
   "execution_count": 354,
   "metadata": {},
   "outputs": [
    {
     "data": {
      "text/plain": [
       "['TTGAGTAT',\n",
       " 'ACTGTACC',\n",
       " 'TTCTGCCT',\n",
       " 'CGATGTAA',\n",
       " 'GGACAAGT',\n",
       " 'GAAGGCTC',\n",
       " 'AGGCAACC',\n",
       " 'GCTCCCAG',\n",
       " 'TAGGTCTG']"
      ]
     },
     "execution_count": 354,
     "metadata": {},
     "output_type": "execute_result"
    }
   ],
   "source": [
    "[test[i:i+k] for i in range(len(test)%k,len(test),k)]"
   ]
  },
  {
   "cell_type": "code",
   "execution_count": 432,
   "metadata": {},
   "outputs": [
    {
     "name": "stdout",
     "output_type": "stream",
     "text": [
      "107.60827231407166\n"
     ]
    }
   ],
   "source": [
    "TimeStart= time.time()\n",
    "\n",
    "boolianRead1 = []\n",
    "boolianRead2 = []\n",
    "\n",
    "MappingR1 = []\n",
    "MappingR2 = []\n",
    "\n",
    "for read1, quality1, read2, quality2 in zip(read1Good, Quality_R1Good, read2Good, Quality_R2Good):\n",
    "    # Split the read in each seed\n",
    "    readSeeds1 = [read1[i:i+k] for i in range(0, len(read1), k)][:-1] \n",
    "    qReadSeeds1 = [quality1[i:i+k] for i in range(0, len(quality1), k)][:-1] \n",
    "    \n",
    "    readSeeds2 = [read2[i:i+k] for i in range(len(read2)%k,len(read2),k)]\n",
    "    qReadSeeds2 = [quality2[i:i+k] for i in range(len(quality2)%k,len(quality2),k)]\n",
    "    \n",
    "    maxExtent1, numWithMax1, genPosition1, IndexRead1 = findMaximumExtend(readSeeds1, qReadSeeds1)\n",
    "    minPosition = 0 if maxExtent1<14 else min(genPosition1)\n",
    "    maxExtent2, numWithMax2, genPosition2, IndexRead2 = findMaximumExtend(readSeeds2, qReadSeeds2, minPosition)\n",
    "    \n",
    "    # Now impose a threshold on the minimum max lenght needed \n",
    "    # Before we are able to tell that this is indeed a hit or not duo random chance\n",
    "    if maxExtent1<15:\n",
    "        # Declare that no mapping was found for this read\n",
    "        maxExtent1 = 0\n",
    "        genPosition1 = []\n",
    "        IndexRead1 = []\n",
    "    if maxExtent1==0 and maxExtent2<15: # if MaxExtent<14 then read2 had the chance to search on the whole genome\n",
    "        # Declare that no mapping was found for this read\n",
    "        maxExtent2 = 0\n",
    "        genPosition2 = []\n",
    "        IndexRead2 = []\n",
    "    if maxExtent1!=0 and maxExtent2<14: # When maxExtent1 is valid then be less harsh on maxExtent2 since the search space was now smaller\n",
    "        maxExtent2 = 0\n",
    "        genPosition2 = []\n",
    "        IndexRead2 = []\n",
    "    \n",
    "    # Save the mappings:\n",
    "    MappingR1.append((IndexRead1, genPosition1, maxExtent1))\n",
    "    MappingR2.append((IndexRead2, genPosition2, maxExtent2))\n",
    "    \n",
    "    # Declare with boolian vector if we found a place for R1 or R2:\n",
    "    if maxExtent1==0:\n",
    "        boolianRead1.append(False)\n",
    "    else:\n",
    "        boolianRead1.append(True)\n",
    "        \n",
    "    if maxExtent2==0:\n",
    "        boolianRead2.append(False)\n",
    "    else:\n",
    "        boolianRead2.append(True)\n",
    "    \n",
    "\n",
    "TimeStop = time.time()\n",
    "print(TimeStop-TimeStart)"
   ]
  },
  {
   "cell_type": "code",
   "execution_count": 426,
   "metadata": {},
   "outputs": [],
   "source": [
    "def findMaximumExtend(readSeeds, QReadSeeds, after = 0):\n",
    "    maximumExtent = 0\n",
    "    numberWithMax = 0 # unique amount of genome position with the same amount of extend.\n",
    "    \n",
    "    refNumbers = [] # Reference number is maybe not equal to the genomePosition number!\n",
    "    \n",
    "    genomeStartPosition = []\n",
    "    startIndexRead = []\n",
    "    \n",
    "    for i, (readSeed,QReadSeed) in enumerate(zip(readSeeds,QReadSeeds)):\n",
    "        #Check quality seed:\n",
    "        falseSeed = False\n",
    "        for Q in QReadSeed:\n",
    "            if Q < 15: # Do not allow seeds that have some where quality score of lower then 15\n",
    "                falseSeed=True\n",
    "                break\n",
    "        if falseSeed:\n",
    "            continue\n",
    "        \n",
    "        seedsOnGenome = hashTable[readSeed]\n",
    "        seedsOnGenome = [seed for seed in seedsOnGenome if seed >= after] # Seeds to be considerd should be bigger then\n",
    "        if len(seedsOnGenome) == 0: # Return empty if no seeds are left anymore\n",
    "            return 0,0,[],[]\n",
    "        startPos = k*i\n",
    "        \n",
    "        for seed in seedsOnGenome:\n",
    "            if seed>(len(wholeGenome)-76) or seed<76: # Becarefull with edges cases on the chromosone\n",
    "                continue\n",
    "            extensionLenght = k\n",
    "            startIndex = startPos\n",
    "            startGenome = seed\n",
    "            # Extend to the right\n",
    "            for j in range(76-startPos-k):\n",
    "                if read[startPos+k+j] != wholeGenome[seed + k + j]:\n",
    "                    break\n",
    "                extensionLenght += 1\n",
    "            \n",
    "            # Extend to the left\n",
    "            for j in range(-1,-startPos-1,-1):\n",
    "                if read[startPos+j] != wholeGenome[seed + j]:\n",
    "                    startIndex += (j+1)\n",
    "                    startGenome += (j+1)\n",
    "                    break\n",
    "                extensionLenght += 1  \n",
    "            \n",
    "            if extensionLenght > maximumExtent:\n",
    "                maximumExtent = extensionLenght\n",
    "                numberWithMax = 1\n",
    "                refNumbers = [seed-startPos] # Store the refnumber\n",
    "                genomeStartPosition = [startGenome]\n",
    "                startIndexRead = [startIndex]\n",
    "                \n",
    "            elif extensionLenght == maximumExtent and (seed-startPos) not in refNumbers:\n",
    "                refNumbers.append(seed-startPos)\n",
    "                genomeStartPosition.append(startGenome)\n",
    "                numberWithMax += 1\n",
    "                startIndexRead.append(startIndex)\n",
    "                \n",
    "    return maximumExtent, numberWithMax, genomeStartPosition, startIndexRead"
   ]
  },
  {
   "cell_type": "markdown",
   "metadata": {},
   "source": [
    "Total amount of non zero:"
   ]
  },
  {
   "cell_type": "code",
   "execution_count": 433,
   "metadata": {},
   "outputs": [
    {
     "data": {
      "text/plain": [
       "5017"
      ]
     },
     "execution_count": 433,
     "metadata": {},
     "output_type": "execute_result"
    }
   ],
   "source": [
    "np.sum(boolianRead1)"
   ]
  },
  {
   "cell_type": "code",
   "execution_count": 434,
   "metadata": {},
   "outputs": [
    {
     "data": {
      "text/plain": [
       "0.5961972667855021"
      ]
     },
     "execution_count": 434,
     "metadata": {},
     "output_type": "execute_result"
    }
   ],
   "source": [
    "np.sum(boolianRead1)/numberGood"
   ]
  },
  {
   "cell_type": "code",
   "execution_count": 435,
   "metadata": {},
   "outputs": [
    {
     "data": {
      "text/plain": [
       "4316"
      ]
     },
     "execution_count": 435,
     "metadata": {},
     "output_type": "execute_result"
    }
   ],
   "source": [
    "np.sum(boolianRead2)"
   ]
  },
  {
   "cell_type": "code",
   "execution_count": 436,
   "metadata": {},
   "outputs": [
    {
     "data": {
      "text/plain": [
       "0.512893642305407"
      ]
     },
     "execution_count": 436,
     "metadata": {},
     "output_type": "execute_result"
    }
   ],
   "source": [
    "np.sum(boolianRead2)/numberGood"
   ]
  },
  {
   "cell_type": "code",
   "execution_count": 24,
   "metadata": {
    "jupyter": {
     "source_hidden": true
    }
   },
   "outputs": [
    {
     "data": {
      "image/png": "[encoded data removed]",
      "text/plain": [
       "<Figure size 1224x360 with 3 Axes>"
      ]
     },
     "metadata": {
      "needs_background": "light"
     },
     "output_type": "display_data"
    }
   ],
   "source": [
    "xmax = [5000,1000,200]\n",
    "fig, axs = plt.subplots(1,3, figsize=(17,5))\n",
    "for i, (k, array) in enumerate(dNumbSeeds.items()):\n",
    "    axs[i].hist(array,50,(0,xmax[i]))\n",
    "    axs[i].set_title(f\"Number of seeds k={k}\")\n",
    "    axs[i].set_xlabel(\"Number Position on genome\")\n",
    "    axs[i].set_ylabel(\"Number Seeds\")\n",
    "fig.savefig(\"NumberPositions.png\")"
   ]
  },
  {
   "cell_type": "code",
   "execution_count": 437,
   "metadata": {},
   "outputs": [
    {
     "data": {
      "text/plain": [
       "23513712"
      ]
     },
     "execution_count": 437,
     "metadata": {},
     "output_type": "execute_result"
    }
   ],
   "source": [
    "len(wholeGenome)"
   ]
  }
 ],
 "metadata": {
  "kernelspec": {
   "display_name": "Python 3",
   "language": "python",
   "name": "python3"
  },
  "language_info": {
   "codemirror_mode": {
    "name": "ipython",
    "version": 3
   },
   "file_extension": ".py",
   "mimetype": "text/x-python",
   "name": "python",
   "nbconvert_exporter": "python",
   "pygments_lexer": "ipython3",
   "version": "3.6.8"
  }
 },
 "nbformat": 4,
 "nbformat_minor": 4
}
